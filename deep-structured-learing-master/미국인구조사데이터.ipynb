{
 "cells": [
  {
   "cell_type": "markdown",
   "metadata": {},
   "source": [
    "미국 인구조사 데이터 1995 대략 5만명을 조사. 나이, 직업, 결혼 상황, 교육정도, 인종, 건너온 나라, 소득수준 1년 소득이 5만달러(6천만원) 이상인지 아닌지를 분류하는 문제\n",
    "\n",
    "다음의 순서로 분석해보았습니다.\n",
    "\n",
    "1. 데이터 획득\n",
    "2. 데이터 정제\n",
    "3. 데이터 분석\n",
    "4. 모델 선택\n",
    "5. 결과 시각화"
   ]
  },
  {
   "cell_type": "code",
   "execution_count": 2,
   "metadata": {
    "collapsed": true
   },
   "outputs": [],
   "source": [
    "import pandas as pd\n",
    "import numpy as np\n",
    "import matplotlib.pylab as plt"
   ]
  },
  {
   "cell_type": "code",
   "execution_count": 3,
   "metadata": {},
   "outputs": [
    {
     "data": {
      "text/plain": [
       "(32561, 15)"
      ]
     },
     "execution_count": 3,
     "metadata": {},
     "output_type": "execute_result"
    }
   ],
   "source": [
    "df = pd.read_csv('C:/adult.data', header=None,encoding='cp949')\n",
    "df.shape"
   ]
  },
  {
   "cell_type": "code",
   "execution_count": 4,
   "metadata": {},
   "outputs": [
    {
     "data": {
      "text/html": [
       "<div>\n",
       "<style scoped>\n",
       "    .dataframe tbody tr th:only-of-type {\n",
       "        vertical-align: middle;\n",
       "    }\n",
       "\n",
       "    .dataframe tbody tr th {\n",
       "        vertical-align: top;\n",
       "    }\n",
       "\n",
       "    .dataframe thead th {\n",
       "        text-align: right;\n",
       "    }\n",
       "</style>\n",
       "<table border=\"1\" class=\"dataframe\">\n",
       "  <thead>\n",
       "    <tr style=\"text-align: right;\">\n",
       "      <th></th>\n",
       "      <th>0</th>\n",
       "      <th>1</th>\n",
       "      <th>2</th>\n",
       "      <th>3</th>\n",
       "      <th>4</th>\n",
       "      <th>5</th>\n",
       "      <th>6</th>\n",
       "      <th>7</th>\n",
       "      <th>8</th>\n",
       "      <th>9</th>\n",
       "      <th>10</th>\n",
       "      <th>11</th>\n",
       "      <th>12</th>\n",
       "      <th>13</th>\n",
       "      <th>14</th>\n",
       "    </tr>\n",
       "  </thead>\n",
       "  <tbody>\n",
       "    <tr>\n",
       "      <th>0</th>\n",
       "      <td>39</td>\n",
       "      <td>State-gov</td>\n",
       "      <td>77516</td>\n",
       "      <td>Bachelors</td>\n",
       "      <td>13</td>\n",
       "      <td>Never-married</td>\n",
       "      <td>Adm-clerical</td>\n",
       "      <td>Not-in-family</td>\n",
       "      <td>White</td>\n",
       "      <td>Male</td>\n",
       "      <td>2174</td>\n",
       "      <td>0</td>\n",
       "      <td>40</td>\n",
       "      <td>United-States</td>\n",
       "      <td>&lt;=50K</td>\n",
       "    </tr>\n",
       "  </tbody>\n",
       "</table>\n",
       "</div>"
      ],
      "text/plain": [
       "   0           1      2           3   4               5              6   \\\n",
       "0  39   State-gov  77516   Bachelors  13   Never-married   Adm-clerical   \n",
       "\n",
       "               7       8      9     10  11  12              13      14  \n",
       "0   Not-in-family   White   Male  2174   0  40   United-States   <=50K  "
      ]
     },
     "execution_count": 4,
     "metadata": {},
     "output_type": "execute_result"
    }
   ],
   "source": [
    "df.head(1)"
   ]
  },
  {
   "cell_type": "code",
   "execution_count": 5,
   "metadata": {},
   "outputs": [
    {
     "data": {
      "text/plain": [
       "15"
      ]
     },
     "execution_count": 5,
     "metadata": {},
     "output_type": "execute_result"
    }
   ],
   "source": [
    "col = ['age','workclass','fnlwgt','education','education-num','marital-status',\n",
    " 'occupation','relationship','race','sex','capital-gain','capital-loss',\n",
    "'hours-per-week','native-country', 'income']\n",
    "len(col)"
   ]
  },
  {
   "cell_type": "markdown",
   "metadata": {},
   "source": [
    "age: continuous. \n",
    "workclass: Private, Self-emp-not-inc, Self-emp-inc, Federal-gov, Local-gov, State-gov, Without-pay, Never-worked. \n",
    "fnlwgt: continuous. \n",
    "education: Bachelors, Some-college, 11th, HS-grad, Prof-school, Assoc-acdm, Assoc-voc, 9th, 7th-8th, 12th, Masters, 1st-4th, 10th, Doctorate, 5th-6th, Preschool. \n",
    "education-num: continuous. \n",
    "marital-status: Married-civ-spouse, Divorced, Never-married, Separated, Widowed, Married-spouse-absent, Married-AF-spouse. \n",
    "occupation: Tech-support, Craft-repair, Other-service, Sales, Exec-managerial, Prof-specialty, Handlers-cleaners, Machine-op-inspct, Adm-clerical, Farming-fishing, Transport-moving, Priv-house-serv, Protective-serv, Armed-Forces. \n",
    "relationship: Wife, Own-child, Husband, Not-in-family, Other-relative, Unmarried. \n",
    "race: White, Asian-Pac-Islander, Amer-Indian-Eskimo, Other, Black. \n",
    "sex: Female, Male. \n",
    "capital-gain: continuous. \n",
    "capital-loss: continuous. \n",
    "hours-per-week: continuous. \n",
    "native-country: United-States, Cambodia, England, Puerto-Rico, Canada, Germany, Outlying-US(Guam-USVI-etc), India, Japan, Greece, South, China, Cuba, Iran, Honduras, Philippines, Italy, Poland, Jamaica, Vietnam, Mexico, Portugal, Ireland, France, Dominican-Republic, Laos, Ecuador, Taiwan, Haiti, Columbia, Hungary, Guatemala, Nicaragua, Scotland, Thailand, Yugoslavia, El-Salvador, Trinadad&Tobago, Peru, Hong, Holand-Netherlands."
   ]
  },
  {
   "cell_type": "code",
   "execution_count": 6,
   "metadata": {
    "collapsed": true
   },
   "outputs": [],
   "source": [
    "df.columns = col"
   ]
  },
  {
   "cell_type": "code",
   "execution_count": 7,
   "metadata": {
    "collapsed": true
   },
   "outputs": [],
   "source": [
    "df = df.drop(columns='fnlwgt') #필요없는 데이터 제거"
   ]
  },
  {
   "cell_type": "markdown",
   "metadata": {},
   "source": [
    "전처리 : 카테고리 > 수치 자연어 > 수치"
   ]
  },
  {
   "cell_type": "code",
   "execution_count": 8,
   "metadata": {},
   "outputs": [
    {
     "ename": "NameError",
     "evalue": "name 'd' is not defined",
     "output_type": "error",
     "traceback": [
      "\u001b[1;31m---------------------------------------------------------------------------\u001b[0m",
      "\u001b[1;31mNameError\u001b[0m                                 Traceback (most recent call last)",
      "\u001b[1;32m<ipython-input-8-80dd7dbb6abe>\u001b[0m in \u001b[0;36m<module>\u001b[1;34m()\u001b[0m\n\u001b[1;32m----> 1\u001b[1;33m \u001b[0mdf\u001b[0m\u001b[1;33m.\u001b[0m\u001b[0msex\u001b[0m\u001b[1;33m.\u001b[0m\u001b[0munique\u001b[0m\u001b[1;33m(\u001b[0m\u001b[1;33m)\u001b[0m\u001b[1;33m,\u001b[0m \u001b[0mdf\u001b[0m\u001b[1;33m.\u001b[0m\u001b[0mincome\u001b[0m\u001b[1;33m.\u001b[0m\u001b[0munique\u001b[0m\u001b[1;33m(\u001b[0m\u001b[1;33m)\u001b[0m\u001b[1;33m,\u001b[0m\u001b[0md\u001b[0m\u001b[1;33m\u001b[0m\u001b[0m\n\u001b[0m",
      "\u001b[1;31mNameError\u001b[0m: name 'd' is not defined"
     ]
    }
   ],
   "source": [
    "df.sex.unique(), df.income.unique(),d"
   ]
  },
  {
   "cell_type": "code",
   "execution_count": 8,
   "metadata": {
    "collapsed": true
   },
   "outputs": [],
   "source": [
    "df.sex = df.sex.map({' Male':0, ' Female':1}) #카테고리가 2개일 때만 사용 가능\n",
    "df.income = df.income.map({' <=50K':0, ' >50K':1})\n",
    "df.sex = df.sex.astype(int)\n",
    "df.income = df.income.astype(int)"
   ]
  },
  {
   "cell_type": "code",
   "execution_count": 9,
   "metadata": {},
   "outputs": [
    {
     "data": {
      "text/plain": [
       "age                int64\n",
       "workclass         object\n",
       "education         object\n",
       "education-num      int64\n",
       "marital-status    object\n",
       "occupation        object\n",
       "relationship      object\n",
       "race              object\n",
       "sex                int32\n",
       "capital-gain       int64\n",
       "capital-loss       int64\n",
       "hours-per-week     int64\n",
       "native-country    object\n",
       "income             int32\n",
       "dtype: object"
      ]
     },
     "execution_count": 9,
     "metadata": {},
     "output_type": "execute_result"
    }
   ],
   "source": [
    "df.dtypes #카테고리 확인"
   ]
  },
  {
   "cell_type": "code",
   "execution_count": 10,
   "metadata": {},
   "outputs": [
    {
     "data": {
      "text/plain": [
       "(32561, 107)"
      ]
     },
     "execution_count": 10,
     "metadata": {},
     "output_type": "execute_result"
    }
   ],
   "source": [
    "df = pd.get_dummies(df) # 카테고리를 원핫 인코딩\n",
    "df.shape"
   ]
  },
  {
   "cell_type": "code",
   "execution_count": 11,
   "metadata": {
    "collapsed": true
   },
   "outputs": [],
   "source": [
    "y = df.income\n",
    "x = df.drop(columns='income')"
   ]
  },
  {
   "cell_type": "code",
   "execution_count": 12,
   "metadata": {},
   "outputs": [
    {
     "data": {
      "text/plain": [
       "0.8438930008292128"
      ]
     },
     "execution_count": 12,
     "metadata": {},
     "output_type": "execute_result"
    }
   ],
   "source": [
    "from sklearn.tree import DecisionTreeClassifier\n",
    "model = DecisionTreeClassifier(max_depth=3).fit(x,y)\n",
    "model.score(x,y)"
   ]
  },
  {
   "cell_type": "code",
   "execution_count": 13,
   "metadata": {},
   "outputs": [
    {
     "data": {
      "image/svg+xml": [
       "<?xml version=\"1.0\" encoding=\"UTF-8\" standalone=\"no\"?>\r\n",
       "<!DOCTYPE svg PUBLIC \"-//W3C//DTD SVG 1.1//EN\"\r\n",
       " \"http://www.w3.org/Graphics/SVG/1.1/DTD/svg11.dtd\">\r\n",
       "<!-- Generated by graphviz version 2.38.0 (20140413.2041)\r\n",
       " -->\r\n",
       "<!-- Title: Tree Pages: 1 -->\r\n",
       "<svg width=\"1065pt\" height=\"373pt\"\r\n",
       " viewBox=\"0.00 0.00 1064.50 373.00\" xmlns=\"http://www.w3.org/2000/svg\" xmlns:xlink=\"http://www.w3.org/1999/xlink\">\r\n",
       "<g id=\"graph0\" class=\"graph\" transform=\"scale(1 1) rotate(0) translate(4 369)\">\r\n",
       "<title>Tree</title>\r\n",
       "<polygon fill=\"white\" stroke=\"none\" points=\"-4,4 -4,-369 1060.5,-369 1060.5,4 -4,4\"/>\r\n",
       "<!-- 0 -->\r\n",
       "<g id=\"node1\" class=\"node\"><title>0</title>\r\n",
       "<polygon fill=\"#e58139\" fill-opacity=\"0.682353\" stroke=\"black\" points=\"647,-365 396,-365 396,-297 647,-297 647,-365\"/>\r\n",
       "<text text-anchor=\"middle\" x=\"521.5\" y=\"-349.8\" font-family=\"Times New Roman,serif\" font-size=\"14.00\">marital&#45;status_ Married&#45;civ&#45;spouse &lt;= 0.5</text>\r\n",
       "<text text-anchor=\"middle\" x=\"521.5\" y=\"-334.8\" font-family=\"Times New Roman,serif\" font-size=\"14.00\">samples = 32561</text>\r\n",
       "<text text-anchor=\"middle\" x=\"521.5\" y=\"-319.8\" font-family=\"Times New Roman,serif\" font-size=\"14.00\">value = [24720, 7841]</text>\r\n",
       "<text text-anchor=\"middle\" x=\"521.5\" y=\"-304.8\" font-family=\"Times New Roman,serif\" font-size=\"14.00\">class = &lt; 50k</text>\r\n",
       "</g>\r\n",
       "<!-- 1 -->\r\n",
       "<g id=\"node2\" class=\"node\"><title>1</title>\r\n",
       "<polygon fill=\"#e58139\" fill-opacity=\"0.929412\" stroke=\"black\" points=\"494,-261 353,-261 353,-193 494,-193 494,-261\"/>\r\n",
       "<text text-anchor=\"middle\" x=\"423.5\" y=\"-245.8\" font-family=\"Times New Roman,serif\" font-size=\"14.00\">capital&#45;gain &lt;= 7073.5</text>\r\n",
       "<text text-anchor=\"middle\" x=\"423.5\" y=\"-230.8\" font-family=\"Times New Roman,serif\" font-size=\"14.00\">samples = 17585</text>\r\n",
       "<text text-anchor=\"middle\" x=\"423.5\" y=\"-215.8\" font-family=\"Times New Roman,serif\" font-size=\"14.00\">value = [16436, 1149]</text>\r\n",
       "<text text-anchor=\"middle\" x=\"423.5\" y=\"-200.8\" font-family=\"Times New Roman,serif\" font-size=\"14.00\">class = &lt; 50k</text>\r\n",
       "</g>\r\n",
       "<!-- 0&#45;&gt;1 -->\r\n",
       "<g id=\"edge1\" class=\"edge\"><title>0&#45;&gt;1</title>\r\n",
       "<path fill=\"none\" stroke=\"black\" d=\"M489.682,-296.884C481.039,-287.887 471.578,-278.041 462.583,-268.678\"/>\r\n",
       "<polygon fill=\"black\" stroke=\"black\" points=\"464.946,-266.086 455.494,-261.299 459.898,-270.935 464.946,-266.086\"/>\r\n",
       "<text text-anchor=\"middle\" x=\"454.994\" y=\"-282.594\" font-family=\"Times New Roman,serif\" font-size=\"14.00\">True</text>\r\n",
       "</g>\r\n",
       "<!-- 8 -->\r\n",
       "<g id=\"node9\" class=\"node\"><title>8</title>\r\n",
       "<polygon fill=\"#e58139\" fill-opacity=\"0.192157\" stroke=\"black\" points=\"694,-261 547,-261 547,-193 694,-193 694,-261\"/>\r\n",
       "<text text-anchor=\"middle\" x=\"620.5\" y=\"-245.8\" font-family=\"Times New Roman,serif\" font-size=\"14.00\">education&#45;num &lt;= 12.5</text>\r\n",
       "<text text-anchor=\"middle\" x=\"620.5\" y=\"-230.8\" font-family=\"Times New Roman,serif\" font-size=\"14.00\">samples = 14976</text>\r\n",
       "<text text-anchor=\"middle\" x=\"620.5\" y=\"-215.8\" font-family=\"Times New Roman,serif\" font-size=\"14.00\">value = [8284, 6692]</text>\r\n",
       "<text text-anchor=\"middle\" x=\"620.5\" y=\"-200.8\" font-family=\"Times New Roman,serif\" font-size=\"14.00\">class = &lt; 50k</text>\r\n",
       "</g>\r\n",
       "<!-- 0&#45;&gt;8 -->\r\n",
       "<g id=\"edge8\" class=\"edge\"><title>0&#45;&gt;8</title>\r\n",
       "<path fill=\"none\" stroke=\"black\" d=\"M553.642,-296.884C562.374,-287.887 571.931,-278.041 581.018,-268.678\"/>\r\n",
       "<polygon fill=\"black\" stroke=\"black\" points=\"583.727,-270.913 588.18,-261.299 578.704,-266.038 583.727,-270.913\"/>\r\n",
       "<text text-anchor=\"middle\" x=\"588.553\" y=\"-282.597\" font-family=\"Times New Roman,serif\" font-size=\"14.00\">False</text>\r\n",
       "</g>\r\n",
       "<!-- 2 -->\r\n",
       "<g id=\"node3\" class=\"node\"><title>2</title>\r\n",
       "<polygon fill=\"#e58139\" fill-opacity=\"0.949020\" stroke=\"black\" points=\"285,-157 138,-157 138,-89 285,-89 285,-157\"/>\r\n",
       "<text text-anchor=\"middle\" x=\"211.5\" y=\"-141.8\" font-family=\"Times New Roman,serif\" font-size=\"14.00\">education&#45;num &lt;= 12.5</text>\r\n",
       "<text text-anchor=\"middle\" x=\"211.5\" y=\"-126.8\" font-family=\"Times New Roman,serif\" font-size=\"14.00\">samples = 17274</text>\r\n",
       "<text text-anchor=\"middle\" x=\"211.5\" y=\"-111.8\" font-family=\"Times New Roman,serif\" font-size=\"14.00\">value = [16425, 849]</text>\r\n",
       "<text text-anchor=\"middle\" x=\"211.5\" y=\"-96.8\" font-family=\"Times New Roman,serif\" font-size=\"14.00\">class = &lt; 50k</text>\r\n",
       "</g>\r\n",
       "<!-- 1&#45;&gt;2 -->\r\n",
       "<g id=\"edge2\" class=\"edge\"><title>1&#45;&gt;2</title>\r\n",
       "<path fill=\"none\" stroke=\"black\" d=\"M354.67,-192.884C333.829,-182.856 310.793,-171.773 289.403,-161.482\"/>\r\n",
       "<polygon fill=\"black\" stroke=\"black\" points=\"290.876,-158.306 280.347,-157.125 287.841,-164.614 290.876,-158.306\"/>\r\n",
       "</g>\r\n",
       "<!-- 5 -->\r\n",
       "<g id=\"node6\" class=\"node\"><title>5</title>\r\n",
       "<polygon fill=\"#399de5\" fill-opacity=\"0.964706\" stroke=\"black\" points=\"479,-157 368,-157 368,-89 479,-89 479,-157\"/>\r\n",
       "<text text-anchor=\"middle\" x=\"423.5\" y=\"-141.8\" font-family=\"Times New Roman,serif\" font-size=\"14.00\">age &lt;= 20.5</text>\r\n",
       "<text text-anchor=\"middle\" x=\"423.5\" y=\"-126.8\" font-family=\"Times New Roman,serif\" font-size=\"14.00\">samples = 311</text>\r\n",
       "<text text-anchor=\"middle\" x=\"423.5\" y=\"-111.8\" font-family=\"Times New Roman,serif\" font-size=\"14.00\">value = [11, 300]</text>\r\n",
       "<text text-anchor=\"middle\" x=\"423.5\" y=\"-96.8\" font-family=\"Times New Roman,serif\" font-size=\"14.00\">class = &gt;= 50k</text>\r\n",
       "</g>\r\n",
       "<!-- 1&#45;&gt;5 -->\r\n",
       "<g id=\"edge5\" class=\"edge\"><title>1&#45;&gt;5</title>\r\n",
       "<path fill=\"none\" stroke=\"black\" d=\"M423.5,-192.884C423.5,-184.778 423.5,-175.982 423.5,-167.472\"/>\r\n",
       "<polygon fill=\"black\" stroke=\"black\" points=\"427,-167.299 423.5,-157.299 420,-167.299 427,-167.299\"/>\r\n",
       "</g>\r\n",
       "<!-- 3 -->\r\n",
       "<g id=\"node4\" class=\"node\"><title>3</title>\r\n",
       "<polygon fill=\"#e58139\" fill-opacity=\"0.976471\" stroke=\"black\" points=\"131,-53 0,-53 0,-0 131,-0 131,-53\"/>\r\n",
       "<text text-anchor=\"middle\" x=\"65.5\" y=\"-37.8\" font-family=\"Times New Roman,serif\" font-size=\"14.00\">samples = 13864</text>\r\n",
       "<text text-anchor=\"middle\" x=\"65.5\" y=\"-22.8\" font-family=\"Times New Roman,serif\" font-size=\"14.00\">value = [13522, 342]</text>\r\n",
       "<text text-anchor=\"middle\" x=\"65.5\" y=\"-7.8\" font-family=\"Times New Roman,serif\" font-size=\"14.00\">class = &lt; 50k</text>\r\n",
       "</g>\r\n",
       "<!-- 2&#45;&gt;3 -->\r\n",
       "<g id=\"edge3\" class=\"edge\"><title>2&#45;&gt;3</title>\r\n",
       "<path fill=\"none\" stroke=\"black\" d=\"M160.436,-88.9485C145.314,-79.1601 128.806,-68.4756 113.86,-58.8015\"/>\r\n",
       "<polygon fill=\"black\" stroke=\"black\" points=\"115.559,-55.7322 105.263,-53.2367 111.756,-61.6087 115.559,-55.7322\"/>\r\n",
       "</g>\r\n",
       "<!-- 4 -->\r\n",
       "<g id=\"node5\" class=\"node\"><title>4</title>\r\n",
       "<polygon fill=\"#e58139\" fill-opacity=\"0.823529\" stroke=\"black\" points=\"274,-53 149,-53 149,-0 274,-0 274,-53\"/>\r\n",
       "<text text-anchor=\"middle\" x=\"211.5\" y=\"-37.8\" font-family=\"Times New Roman,serif\" font-size=\"14.00\">samples = 3410</text>\r\n",
       "<text text-anchor=\"middle\" x=\"211.5\" y=\"-22.8\" font-family=\"Times New Roman,serif\" font-size=\"14.00\">value = [2903, 507]</text>\r\n",
       "<text text-anchor=\"middle\" x=\"211.5\" y=\"-7.8\" font-family=\"Times New Roman,serif\" font-size=\"14.00\">class = &lt; 50k</text>\r\n",
       "</g>\r\n",
       "<!-- 2&#45;&gt;4 -->\r\n",
       "<g id=\"edge4\" class=\"edge\"><title>2&#45;&gt;4</title>\r\n",
       "<path fill=\"none\" stroke=\"black\" d=\"M211.5,-88.9485C211.5,-80.7153 211.5,-71.848 211.5,-63.4814\"/>\r\n",
       "<polygon fill=\"black\" stroke=\"black\" points=\"215,-63.2367 211.5,-53.2367 208,-63.2367 215,-63.2367\"/>\r\n",
       "</g>\r\n",
       "<!-- 6 -->\r\n",
       "<g id=\"node7\" class=\"node\"><title>6</title>\r\n",
       "<polygon fill=\"#e58139\" stroke=\"black\" points=\"384.5,-53 292.5,-53 292.5,-0 384.5,-0 384.5,-53\"/>\r\n",
       "<text text-anchor=\"middle\" x=\"338.5\" y=\"-37.8\" font-family=\"Times New Roman,serif\" font-size=\"14.00\">samples = 4</text>\r\n",
       "<text text-anchor=\"middle\" x=\"338.5\" y=\"-22.8\" font-family=\"Times New Roman,serif\" font-size=\"14.00\">value = [4, 0]</text>\r\n",
       "<text text-anchor=\"middle\" x=\"338.5\" y=\"-7.8\" font-family=\"Times New Roman,serif\" font-size=\"14.00\">class = &lt; 50k</text>\r\n",
       "</g>\r\n",
       "<!-- 5&#45;&gt;6 -->\r\n",
       "<g id=\"edge6\" class=\"edge\"><title>5&#45;&gt;6</title>\r\n",
       "<path fill=\"none\" stroke=\"black\" d=\"M393.771,-88.9485C385.543,-79.8005 376.61,-69.8697 368.374,-60.7126\"/>\r\n",
       "<polygon fill=\"black\" stroke=\"black\" points=\"370.939,-58.331 361.649,-53.2367 365.735,-63.0123 370.939,-58.331\"/>\r\n",
       "</g>\r\n",
       "<!-- 7 -->\r\n",
       "<g id=\"node8\" class=\"node\"><title>7</title>\r\n",
       "<polygon fill=\"#399de5\" fill-opacity=\"0.976471\" stroke=\"black\" points=\"506.5,-53 402.5,-53 402.5,-0 506.5,-0 506.5,-53\"/>\r\n",
       "<text text-anchor=\"middle\" x=\"454.5\" y=\"-37.8\" font-family=\"Times New Roman,serif\" font-size=\"14.00\">samples = 307</text>\r\n",
       "<text text-anchor=\"middle\" x=\"454.5\" y=\"-22.8\" font-family=\"Times New Roman,serif\" font-size=\"14.00\">value = [7, 300]</text>\r\n",
       "<text text-anchor=\"middle\" x=\"454.5\" y=\"-7.8\" font-family=\"Times New Roman,serif\" font-size=\"14.00\">class = &gt;= 50k</text>\r\n",
       "</g>\r\n",
       "<!-- 5&#45;&gt;7 -->\r\n",
       "<g id=\"edge7\" class=\"edge\"><title>5&#45;&gt;7</title>\r\n",
       "<path fill=\"none\" stroke=\"black\" d=\"M434.342,-88.9485C437.103,-80.5323 440.081,-71.4536 442.879,-62.9243\"/>\r\n",
       "<polygon fill=\"black\" stroke=\"black\" points=\"446.266,-63.8295 446.057,-53.2367 439.615,-61.6475 446.266,-63.8295\"/>\r\n",
       "</g>\r\n",
       "<!-- 9 -->\r\n",
       "<g id=\"node10\" class=\"node\"><title>9</title>\r\n",
       "<polygon fill=\"#e58139\" fill-opacity=\"0.505882\" stroke=\"black\" points=\"691,-157 550,-157 550,-89 691,-89 691,-157\"/>\r\n",
       "<text text-anchor=\"middle\" x=\"620.5\" y=\"-141.8\" font-family=\"Times New Roman,serif\" font-size=\"14.00\">capital&#45;gain &lt;= 5095.5</text>\r\n",
       "<text text-anchor=\"middle\" x=\"620.5\" y=\"-126.8\" font-family=\"Times New Roman,serif\" font-size=\"14.00\">samples = 10507</text>\r\n",
       "<text text-anchor=\"middle\" x=\"620.5\" y=\"-111.8\" font-family=\"Times New Roman,serif\" font-size=\"14.00\">value = [7029, 3478]</text>\r\n",
       "<text text-anchor=\"middle\" x=\"620.5\" y=\"-96.8\" font-family=\"Times New Roman,serif\" font-size=\"14.00\">class = &lt; 50k</text>\r\n",
       "</g>\r\n",
       "<!-- 8&#45;&gt;9 -->\r\n",
       "<g id=\"edge9\" class=\"edge\"><title>8&#45;&gt;9</title>\r\n",
       "<path fill=\"none\" stroke=\"black\" d=\"M620.5,-192.884C620.5,-184.778 620.5,-175.982 620.5,-167.472\"/>\r\n",
       "<polygon fill=\"black\" stroke=\"black\" points=\"624,-167.299 620.5,-157.299 617,-167.299 624,-167.299\"/>\r\n",
       "</g>\r\n",
       "<!-- 12 -->\r\n",
       "<g id=\"node13\" class=\"node\"><title>12</title>\r\n",
       "<polygon fill=\"#399de5\" fill-opacity=\"0.607843\" stroke=\"black\" points=\"939,-157 798,-157 798,-89 939,-89 939,-157\"/>\r\n",
       "<text text-anchor=\"middle\" x=\"868.5\" y=\"-141.8\" font-family=\"Times New Roman,serif\" font-size=\"14.00\">capital&#45;gain &lt;= 5095.5</text>\r\n",
       "<text text-anchor=\"middle\" x=\"868.5\" y=\"-126.8\" font-family=\"Times New Roman,serif\" font-size=\"14.00\">samples = 4469</text>\r\n",
       "<text text-anchor=\"middle\" x=\"868.5\" y=\"-111.8\" font-family=\"Times New Roman,serif\" font-size=\"14.00\">value = [1255, 3214]</text>\r\n",
       "<text text-anchor=\"middle\" x=\"868.5\" y=\"-96.8\" font-family=\"Times New Roman,serif\" font-size=\"14.00\">class = &gt;= 50k</text>\r\n",
       "</g>\r\n",
       "<!-- 8&#45;&gt;12 -->\r\n",
       "<g id=\"edge12\" class=\"edge\"><title>8&#45;&gt;12</title>\r\n",
       "<path fill=\"none\" stroke=\"black\" d=\"M694.237,-195.673C723.868,-183.486 758.109,-169.403 788.354,-156.963\"/>\r\n",
       "<polygon fill=\"black\" stroke=\"black\" points=\"789.686,-160.2 797.603,-153.159 787.023,-153.726 789.686,-160.2\"/>\r\n",
       "</g>\r\n",
       "<!-- 10 -->\r\n",
       "<g id=\"node11\" class=\"node\"><title>10</title>\r\n",
       "<polygon fill=\"#e58139\" fill-opacity=\"0.576471\" stroke=\"black\" points=\"656,-53 525,-53 525,-0 656,-0 656,-53\"/>\r\n",
       "<text text-anchor=\"middle\" x=\"590.5\" y=\"-37.8\" font-family=\"Times New Roman,serif\" font-size=\"14.00\">samples = 9979</text>\r\n",
       "<text text-anchor=\"middle\" x=\"590.5\" y=\"-22.8\" font-family=\"Times New Roman,serif\" font-size=\"14.00\">value = [7018, 2961]</text>\r\n",
       "<text text-anchor=\"middle\" x=\"590.5\" y=\"-7.8\" font-family=\"Times New Roman,serif\" font-size=\"14.00\">class = &lt; 50k</text>\r\n",
       "</g>\r\n",
       "<!-- 9&#45;&gt;10 -->\r\n",
       "<g id=\"edge10\" class=\"edge\"><title>9&#45;&gt;10</title>\r\n",
       "<path fill=\"none\" stroke=\"black\" d=\"M610.007,-88.9485C607.336,-80.5323 604.454,-71.4536 601.746,-62.9243\"/>\r\n",
       "<polygon fill=\"black\" stroke=\"black\" points=\"605.032,-61.7089 598.67,-53.2367 598.36,-63.827 605.032,-61.7089\"/>\r\n",
       "</g>\r\n",
       "<!-- 11 -->\r\n",
       "<g id=\"node12\" class=\"node\"><title>11</title>\r\n",
       "<polygon fill=\"#399de5\" fill-opacity=\"0.980392\" stroke=\"black\" points=\"785,-53 674,-53 674,-0 785,-0 785,-53\"/>\r\n",
       "<text text-anchor=\"middle\" x=\"729.5\" y=\"-37.8\" font-family=\"Times New Roman,serif\" font-size=\"14.00\">samples = 528</text>\r\n",
       "<text text-anchor=\"middle\" x=\"729.5\" y=\"-22.8\" font-family=\"Times New Roman,serif\" font-size=\"14.00\">value = [11, 517]</text>\r\n",
       "<text text-anchor=\"middle\" x=\"729.5\" y=\"-7.8\" font-family=\"Times New Roman,serif\" font-size=\"14.00\">class = &gt;= 50k</text>\r\n",
       "</g>\r\n",
       "<!-- 9&#45;&gt;11 -->\r\n",
       "<g id=\"edge11\" class=\"edge\"><title>9&#45;&gt;11</title>\r\n",
       "<path fill=\"none\" stroke=\"black\" d=\"M658.623,-88.9485C669.491,-79.526 681.317,-69.2731 692.139,-59.8906\"/>\r\n",
       "<polygon fill=\"black\" stroke=\"black\" points=\"694.551,-62.4319 699.814,-53.2367 689.966,-57.1428 694.551,-62.4319\"/>\r\n",
       "</g>\r\n",
       "<!-- 13 -->\r\n",
       "<g id=\"node14\" class=\"node\"><title>13</title>\r\n",
       "<polygon fill=\"#399de5\" fill-opacity=\"0.505882\" stroke=\"black\" points=\"934,-53 803,-53 803,-0 934,-0 934,-53\"/>\r\n",
       "<text text-anchor=\"middle\" x=\"868.5\" y=\"-37.8\" font-family=\"Times New Roman,serif\" font-size=\"14.00\">samples = 3788</text>\r\n",
       "<text text-anchor=\"middle\" x=\"868.5\" y=\"-22.8\" font-family=\"Times New Roman,serif\" font-size=\"14.00\">value = [1252, 2536]</text>\r\n",
       "<text text-anchor=\"middle\" x=\"868.5\" y=\"-7.8\" font-family=\"Times New Roman,serif\" font-size=\"14.00\">class = &gt;= 50k</text>\r\n",
       "</g>\r\n",
       "<!-- 12&#45;&gt;13 -->\r\n",
       "<g id=\"edge13\" class=\"edge\"><title>12&#45;&gt;13</title>\r\n",
       "<path fill=\"none\" stroke=\"black\" d=\"M868.5,-88.9485C868.5,-80.7153 868.5,-71.848 868.5,-63.4814\"/>\r\n",
       "<polygon fill=\"black\" stroke=\"black\" points=\"872,-63.2367 868.5,-53.2367 865,-63.2367 872,-63.2367\"/>\r\n",
       "</g>\r\n",
       "<!-- 14 -->\r\n",
       "<g id=\"node15\" class=\"node\"><title>14</title>\r\n",
       "<polygon fill=\"#399de5\" fill-opacity=\"0.996078\" stroke=\"black\" points=\"1056.5,-53 952.5,-53 952.5,-0 1056.5,-0 1056.5,-53\"/>\r\n",
       "<text text-anchor=\"middle\" x=\"1004.5\" y=\"-37.8\" font-family=\"Times New Roman,serif\" font-size=\"14.00\">samples = 681</text>\r\n",
       "<text text-anchor=\"middle\" x=\"1004.5\" y=\"-22.8\" font-family=\"Times New Roman,serif\" font-size=\"14.00\">value = [3, 678]</text>\r\n",
       "<text text-anchor=\"middle\" x=\"1004.5\" y=\"-7.8\" font-family=\"Times New Roman,serif\" font-size=\"14.00\">class = &gt;= 50k</text>\r\n",
       "</g>\r\n",
       "<!-- 12&#45;&gt;14 -->\r\n",
       "<g id=\"edge14\" class=\"edge\"><title>12&#45;&gt;14</title>\r\n",
       "<path fill=\"none\" stroke=\"black\" d=\"M916.066,-88.9485C930.022,-79.2516 945.243,-68.6752 959.062,-59.073\"/>\r\n",
       "<polygon fill=\"black\" stroke=\"black\" points=\"961.246,-61.8172 967.461,-53.2367 957.252,-56.0687 961.246,-61.8172\"/>\r\n",
       "</g>\r\n",
       "</g>\r\n",
       "</svg>\r\n"
      ],
      "text/plain": [
       "<graphviz.files.Source at 0x202cb0fb2b0>"
      ]
     },
     "metadata": {},
     "output_type": "display_data"
    }
   ],
   "source": [
    "from sklearn.tree import export_graphviz\n",
    "export_graphviz(model, out_file='tree.dot', class_names=['< 50k','>= 50k'],\n",
    "        feature_names=x.columns, impurity=False, filled=True)\n",
    "import os\n",
    "os.environ[\"PATH\"] += os.pathsep + 'C:/Program Files (x86)/Graphviz2.38/bin/'\n",
    "import graphviz #패키지 설치 anaconda prompt / pip install graphviz \n",
    "with open('tree.dot') as f:\n",
    "    dot_graph = f.read()    \n",
    "g = graphviz.Source(dot_graph)\n",
    "display(g)"
   ]
  },
  {
   "cell_type": "code",
   "execution_count": 16,
   "metadata": {
    "collapsed": true
   },
   "outputs": [],
   "source": [
    "# df.workclass.unique()"
   ]
  },
  {
   "cell_type": "code",
   "execution_count": 17,
   "metadata": {},
   "outputs": [
    {
     "data": {
      "text/html": [
       "<div>\n",
       "<style scoped>\n",
       "    .dataframe tbody tr th:only-of-type {\n",
       "        vertical-align: middle;\n",
       "    }\n",
       "\n",
       "    .dataframe tbody tr th {\n",
       "        vertical-align: top;\n",
       "    }\n",
       "\n",
       "    .dataframe thead th {\n",
       "        text-align: right;\n",
       "    }\n",
       "</style>\n",
       "<table border=\"1\" class=\"dataframe\">\n",
       "  <thead>\n",
       "    <tr style=\"text-align: right;\">\n",
       "      <th></th>\n",
       "      <th>age</th>\n",
       "      <th>education-num</th>\n",
       "      <th>sex</th>\n",
       "      <th>capital-gain</th>\n",
       "      <th>capital-loss</th>\n",
       "      <th>hours-per-week</th>\n",
       "      <th>income</th>\n",
       "      <th>workclass_ ?</th>\n",
       "      <th>workclass_ Federal-gov</th>\n",
       "      <th>workclass_ Local-gov</th>\n",
       "      <th>...</th>\n",
       "      <th>native-country_ Portugal</th>\n",
       "      <th>native-country_ Puerto-Rico</th>\n",
       "      <th>native-country_ Scotland</th>\n",
       "      <th>native-country_ South</th>\n",
       "      <th>native-country_ Taiwan</th>\n",
       "      <th>native-country_ Thailand</th>\n",
       "      <th>native-country_ Trinadad&amp;Tobago</th>\n",
       "      <th>native-country_ United-States</th>\n",
       "      <th>native-country_ Vietnam</th>\n",
       "      <th>native-country_ Yugoslavia</th>\n",
       "    </tr>\n",
       "  </thead>\n",
       "  <tbody>\n",
       "    <tr>\n",
       "      <th>count</th>\n",
       "      <td>32561.000000</td>\n",
       "      <td>32561.000000</td>\n",
       "      <td>32561.000000</td>\n",
       "      <td>32561.000000</td>\n",
       "      <td>32561.000000</td>\n",
       "      <td>32561.000000</td>\n",
       "      <td>32561.000000</td>\n",
       "      <td>32561.000000</td>\n",
       "      <td>32561.000000</td>\n",
       "      <td>32561.000000</td>\n",
       "      <td>...</td>\n",
       "      <td>32561.000000</td>\n",
       "      <td>32561.000000</td>\n",
       "      <td>32561.000000</td>\n",
       "      <td>32561.000000</td>\n",
       "      <td>32561.000000</td>\n",
       "      <td>32561.000000</td>\n",
       "      <td>32561.000000</td>\n",
       "      <td>32561.000000</td>\n",
       "      <td>32561.000000</td>\n",
       "      <td>32561.000000</td>\n",
       "    </tr>\n",
       "    <tr>\n",
       "      <th>mean</th>\n",
       "      <td>38.581647</td>\n",
       "      <td>10.080679</td>\n",
       "      <td>0.330795</td>\n",
       "      <td>1077.648844</td>\n",
       "      <td>87.303830</td>\n",
       "      <td>40.437456</td>\n",
       "      <td>0.240810</td>\n",
       "      <td>0.056386</td>\n",
       "      <td>0.029483</td>\n",
       "      <td>0.064279</td>\n",
       "      <td>...</td>\n",
       "      <td>0.001136</td>\n",
       "      <td>0.003501</td>\n",
       "      <td>0.000369</td>\n",
       "      <td>0.002457</td>\n",
       "      <td>0.001566</td>\n",
       "      <td>0.000553</td>\n",
       "      <td>0.000584</td>\n",
       "      <td>0.895857</td>\n",
       "      <td>0.002058</td>\n",
       "      <td>0.000491</td>\n",
       "    </tr>\n",
       "    <tr>\n",
       "      <th>std</th>\n",
       "      <td>13.640433</td>\n",
       "      <td>2.572720</td>\n",
       "      <td>0.470506</td>\n",
       "      <td>7385.292085</td>\n",
       "      <td>402.960219</td>\n",
       "      <td>12.347429</td>\n",
       "      <td>0.427581</td>\n",
       "      <td>0.230670</td>\n",
       "      <td>0.169159</td>\n",
       "      <td>0.245254</td>\n",
       "      <td>...</td>\n",
       "      <td>0.033691</td>\n",
       "      <td>0.059068</td>\n",
       "      <td>0.019194</td>\n",
       "      <td>0.049507</td>\n",
       "      <td>0.039546</td>\n",
       "      <td>0.023506</td>\n",
       "      <td>0.024149</td>\n",
       "      <td>0.305451</td>\n",
       "      <td>0.045316</td>\n",
       "      <td>0.022162</td>\n",
       "    </tr>\n",
       "    <tr>\n",
       "      <th>min</th>\n",
       "      <td>17.000000</td>\n",
       "      <td>1.000000</td>\n",
       "      <td>0.000000</td>\n",
       "      <td>0.000000</td>\n",
       "      <td>0.000000</td>\n",
       "      <td>1.000000</td>\n",
       "      <td>0.000000</td>\n",
       "      <td>0.000000</td>\n",
       "      <td>0.000000</td>\n",
       "      <td>0.000000</td>\n",
       "      <td>...</td>\n",
       "      <td>0.000000</td>\n",
       "      <td>0.000000</td>\n",
       "      <td>0.000000</td>\n",
       "      <td>0.000000</td>\n",
       "      <td>0.000000</td>\n",
       "      <td>0.000000</td>\n",
       "      <td>0.000000</td>\n",
       "      <td>0.000000</td>\n",
       "      <td>0.000000</td>\n",
       "      <td>0.000000</td>\n",
       "    </tr>\n",
       "    <tr>\n",
       "      <th>25%</th>\n",
       "      <td>28.000000</td>\n",
       "      <td>9.000000</td>\n",
       "      <td>0.000000</td>\n",
       "      <td>0.000000</td>\n",
       "      <td>0.000000</td>\n",
       "      <td>40.000000</td>\n",
       "      <td>0.000000</td>\n",
       "      <td>0.000000</td>\n",
       "      <td>0.000000</td>\n",
       "      <td>0.000000</td>\n",
       "      <td>...</td>\n",
       "      <td>0.000000</td>\n",
       "      <td>0.000000</td>\n",
       "      <td>0.000000</td>\n",
       "      <td>0.000000</td>\n",
       "      <td>0.000000</td>\n",
       "      <td>0.000000</td>\n",
       "      <td>0.000000</td>\n",
       "      <td>1.000000</td>\n",
       "      <td>0.000000</td>\n",
       "      <td>0.000000</td>\n",
       "    </tr>\n",
       "    <tr>\n",
       "      <th>50%</th>\n",
       "      <td>37.000000</td>\n",
       "      <td>10.000000</td>\n",
       "      <td>0.000000</td>\n",
       "      <td>0.000000</td>\n",
       "      <td>0.000000</td>\n",
       "      <td>40.000000</td>\n",
       "      <td>0.000000</td>\n",
       "      <td>0.000000</td>\n",
       "      <td>0.000000</td>\n",
       "      <td>0.000000</td>\n",
       "      <td>...</td>\n",
       "      <td>0.000000</td>\n",
       "      <td>0.000000</td>\n",
       "      <td>0.000000</td>\n",
       "      <td>0.000000</td>\n",
       "      <td>0.000000</td>\n",
       "      <td>0.000000</td>\n",
       "      <td>0.000000</td>\n",
       "      <td>1.000000</td>\n",
       "      <td>0.000000</td>\n",
       "      <td>0.000000</td>\n",
       "    </tr>\n",
       "    <tr>\n",
       "      <th>75%</th>\n",
       "      <td>48.000000</td>\n",
       "      <td>12.000000</td>\n",
       "      <td>1.000000</td>\n",
       "      <td>0.000000</td>\n",
       "      <td>0.000000</td>\n",
       "      <td>45.000000</td>\n",
       "      <td>0.000000</td>\n",
       "      <td>0.000000</td>\n",
       "      <td>0.000000</td>\n",
       "      <td>0.000000</td>\n",
       "      <td>...</td>\n",
       "      <td>0.000000</td>\n",
       "      <td>0.000000</td>\n",
       "      <td>0.000000</td>\n",
       "      <td>0.000000</td>\n",
       "      <td>0.000000</td>\n",
       "      <td>0.000000</td>\n",
       "      <td>0.000000</td>\n",
       "      <td>1.000000</td>\n",
       "      <td>0.000000</td>\n",
       "      <td>0.000000</td>\n",
       "    </tr>\n",
       "    <tr>\n",
       "      <th>max</th>\n",
       "      <td>90.000000</td>\n",
       "      <td>16.000000</td>\n",
       "      <td>1.000000</td>\n",
       "      <td>99999.000000</td>\n",
       "      <td>4356.000000</td>\n",
       "      <td>99.000000</td>\n",
       "      <td>1.000000</td>\n",
       "      <td>1.000000</td>\n",
       "      <td>1.000000</td>\n",
       "      <td>1.000000</td>\n",
       "      <td>...</td>\n",
       "      <td>1.000000</td>\n",
       "      <td>1.000000</td>\n",
       "      <td>1.000000</td>\n",
       "      <td>1.000000</td>\n",
       "      <td>1.000000</td>\n",
       "      <td>1.000000</td>\n",
       "      <td>1.000000</td>\n",
       "      <td>1.000000</td>\n",
       "      <td>1.000000</td>\n",
       "      <td>1.000000</td>\n",
       "    </tr>\n",
       "  </tbody>\n",
       "</table>\n",
       "<p>8 rows × 107 columns</p>\n",
       "</div>"
      ],
      "text/plain": [
       "                age  education-num           sex  capital-gain  capital-loss  \\\n",
       "count  32561.000000   32561.000000  32561.000000  32561.000000  32561.000000   \n",
       "mean      38.581647      10.080679      0.330795   1077.648844     87.303830   \n",
       "std       13.640433       2.572720      0.470506   7385.292085    402.960219   \n",
       "min       17.000000       1.000000      0.000000      0.000000      0.000000   \n",
       "25%       28.000000       9.000000      0.000000      0.000000      0.000000   \n",
       "50%       37.000000      10.000000      0.000000      0.000000      0.000000   \n",
       "75%       48.000000      12.000000      1.000000      0.000000      0.000000   \n",
       "max       90.000000      16.000000      1.000000  99999.000000   4356.000000   \n",
       "\n",
       "       hours-per-week        income  workclass_ ?  workclass_ Federal-gov  \\\n",
       "count    32561.000000  32561.000000  32561.000000            32561.000000   \n",
       "mean        40.437456      0.240810      0.056386                0.029483   \n",
       "std         12.347429      0.427581      0.230670                0.169159   \n",
       "min          1.000000      0.000000      0.000000                0.000000   \n",
       "25%         40.000000      0.000000      0.000000                0.000000   \n",
       "50%         40.000000      0.000000      0.000000                0.000000   \n",
       "75%         45.000000      0.000000      0.000000                0.000000   \n",
       "max         99.000000      1.000000      1.000000                1.000000   \n",
       "\n",
       "       workclass_ Local-gov  ...  native-country_ Portugal  \\\n",
       "count          32561.000000  ...              32561.000000   \n",
       "mean               0.064279  ...                  0.001136   \n",
       "std                0.245254  ...                  0.033691   \n",
       "min                0.000000  ...                  0.000000   \n",
       "25%                0.000000  ...                  0.000000   \n",
       "50%                0.000000  ...                  0.000000   \n",
       "75%                0.000000  ...                  0.000000   \n",
       "max                1.000000  ...                  1.000000   \n",
       "\n",
       "       native-country_ Puerto-Rico  native-country_ Scotland  \\\n",
       "count                 32561.000000              32561.000000   \n",
       "mean                      0.003501                  0.000369   \n",
       "std                       0.059068                  0.019194   \n",
       "min                       0.000000                  0.000000   \n",
       "25%                       0.000000                  0.000000   \n",
       "50%                       0.000000                  0.000000   \n",
       "75%                       0.000000                  0.000000   \n",
       "max                       1.000000                  1.000000   \n",
       "\n",
       "       native-country_ South  native-country_ Taiwan  \\\n",
       "count           32561.000000            32561.000000   \n",
       "mean                0.002457                0.001566   \n",
       "std                 0.049507                0.039546   \n",
       "min                 0.000000                0.000000   \n",
       "25%                 0.000000                0.000000   \n",
       "50%                 0.000000                0.000000   \n",
       "75%                 0.000000                0.000000   \n",
       "max                 1.000000                1.000000   \n",
       "\n",
       "       native-country_ Thailand  native-country_ Trinadad&Tobago  \\\n",
       "count              32561.000000                     32561.000000   \n",
       "mean                   0.000553                         0.000584   \n",
       "std                    0.023506                         0.024149   \n",
       "min                    0.000000                         0.000000   \n",
       "25%                    0.000000                         0.000000   \n",
       "50%                    0.000000                         0.000000   \n",
       "75%                    0.000000                         0.000000   \n",
       "max                    1.000000                         1.000000   \n",
       "\n",
       "       native-country_ United-States  native-country_ Vietnam  \\\n",
       "count                   32561.000000             32561.000000   \n",
       "mean                        0.895857                 0.002058   \n",
       "std                         0.305451                 0.045316   \n",
       "min                         0.000000                 0.000000   \n",
       "25%                         1.000000                 0.000000   \n",
       "50%                         1.000000                 0.000000   \n",
       "75%                         1.000000                 0.000000   \n",
       "max                         1.000000                 1.000000   \n",
       "\n",
       "       native-country_ Yugoslavia  \n",
       "count                32561.000000  \n",
       "mean                     0.000491  \n",
       "std                      0.022162  \n",
       "min                      0.000000  \n",
       "25%                      0.000000  \n",
       "50%                      0.000000  \n",
       "75%                      0.000000  \n",
       "max                      1.000000  \n",
       "\n",
       "[8 rows x 107 columns]"
      ]
     },
     "execution_count": 17,
     "metadata": {},
     "output_type": "execute_result"
    }
   ],
   "source": [
    "#df.mean()\n",
    "df.describe() #통계정보 보기"
   ]
  },
  {
   "cell_type": "code",
   "execution_count": 19,
   "metadata": {
    "collapsed": true
   },
   "outputs": [],
   "source": [
    "# len(df.fnlwgt),df.fnlwgt.nunique(), df.fnlwgt.min(), df.fnlwgt.max()"
   ]
  },
  {
   "cell_type": "code",
   "execution_count": 20,
   "metadata": {},
   "outputs": [
    {
     "data": {
      "text/plain": [
       "0"
      ]
     },
     "execution_count": 20,
     "metadata": {},
     "output_type": "execute_result"
    }
   ],
   "source": [
    "df.isna().sum().sum()"
   ]
  },
  {
   "cell_type": "markdown",
   "metadata": {},
   "source": [
    "그룹별 데이터 분석\n",
    "\n",
    "컬럼이 카테고리여야 합니다.\n",
    "수치형 칼럼은 그룹별로 분석할 수 없어요\n",
    "\n",
    ".groupby('컬럼').mean()\n",
    ".groupby('컬럼').agg(['mean', 'max'])\n",
    ".groupby(['컬럼', '컬럼']).mean()"
   ]
  },
  {
   "cell_type": "code",
   "execution_count": 21,
   "metadata": {},
   "outputs": [
    {
     "data": {
      "image/png": "[encoded data removed]",
      "text/plain": [
       "<matplotlib.figure.Figure at 0x202cb2a1fd0>"
      ]
     },
     "metadata": {},
     "output_type": "display_data"
    }
   ],
   "source": [
    "#그림이 안나올때\n",
    "%matplotlib inline\n",
    "a = df.hist(figsize=(7,7))"
   ]
  },
  {
   "cell_type": "code",
   "execution_count": 22,
   "metadata": {},
   "outputs": [
    {
     "data": {
      "text/html": [
       "<div>\n",
       "<style scoped>\n",
       "    .dataframe tbody tr th:only-of-type {\n",
       "        vertical-align: middle;\n",
       "    }\n",
       "\n",
       "    .dataframe tbody tr th {\n",
       "        vertical-align: top;\n",
       "    }\n",
       "\n",
       "    .dataframe thead th {\n",
       "        text-align: right;\n",
       "    }\n",
       "</style>\n",
       "<table border=\"1\" class=\"dataframe\">\n",
       "  <thead>\n",
       "    <tr style=\"text-align: right;\">\n",
       "      <th></th>\n",
       "      <th>age</th>\n",
       "      <th>education-num</th>\n",
       "      <th>sex</th>\n",
       "      <th>capital-gain</th>\n",
       "      <th>capital-loss</th>\n",
       "      <th>hours-per-week</th>\n",
       "      <th>income</th>\n",
       "      <th>workclass_ ?</th>\n",
       "      <th>workclass_ Federal-gov</th>\n",
       "      <th>workclass_ Local-gov</th>\n",
       "      <th>...</th>\n",
       "      <th>native-country_ Portugal</th>\n",
       "      <th>native-country_ Puerto-Rico</th>\n",
       "      <th>native-country_ Scotland</th>\n",
       "      <th>native-country_ South</th>\n",
       "      <th>native-country_ Taiwan</th>\n",
       "      <th>native-country_ Thailand</th>\n",
       "      <th>native-country_ Trinadad&amp;Tobago</th>\n",
       "      <th>native-country_ United-States</th>\n",
       "      <th>native-country_ Vietnam</th>\n",
       "      <th>native-country_ Yugoslavia</th>\n",
       "    </tr>\n",
       "  </thead>\n",
       "  <tbody>\n",
       "    <tr>\n",
       "      <th>0</th>\n",
       "      <td>39</td>\n",
       "      <td>13</td>\n",
       "      <td>0</td>\n",
       "      <td>2174</td>\n",
       "      <td>0</td>\n",
       "      <td>40</td>\n",
       "      <td>0</td>\n",
       "      <td>0</td>\n",
       "      <td>0</td>\n",
       "      <td>0</td>\n",
       "      <td>...</td>\n",
       "      <td>0</td>\n",
       "      <td>0</td>\n",
       "      <td>0</td>\n",
       "      <td>0</td>\n",
       "      <td>0</td>\n",
       "      <td>0</td>\n",
       "      <td>0</td>\n",
       "      <td>1</td>\n",
       "      <td>0</td>\n",
       "      <td>0</td>\n",
       "    </tr>\n",
       "  </tbody>\n",
       "</table>\n",
       "<p>1 rows × 107 columns</p>\n",
       "</div>"
      ],
      "text/plain": [
       "   age  education-num  sex  capital-gain  capital-loss  hours-per-week  \\\n",
       "0   39             13    0          2174             0              40   \n",
       "\n",
       "   income  workclass_ ?  workclass_ Federal-gov  workclass_ Local-gov  ...  \\\n",
       "0       0             0                       0                     0  ...   \n",
       "\n",
       "   native-country_ Portugal  native-country_ Puerto-Rico  \\\n",
       "0                         0                            0   \n",
       "\n",
       "   native-country_ Scotland  native-country_ South  native-country_ Taiwan  \\\n",
       "0                         0                      0                       0   \n",
       "\n",
       "   native-country_ Thailand  native-country_ Trinadad&Tobago  \\\n",
       "0                         0                                0   \n",
       "\n",
       "   native-country_ United-States  native-country_ Vietnam  \\\n",
       "0                              1                        0   \n",
       "\n",
       "   native-country_ Yugoslavia  \n",
       "0                           0  \n",
       "\n",
       "[1 rows x 107 columns]"
      ]
     },
     "execution_count": 22,
     "metadata": {},
     "output_type": "execute_result"
    }
   ],
   "source": [
    "df.head(1)"
   ]
  },
  {
   "cell_type": "code",
   "execution_count": 23,
   "metadata": {},
   "outputs": [
    {
     "ename": "AttributeError",
     "evalue": "'DataFrame' object has no attribute 'workclass'",
     "output_type": "error",
     "traceback": [
      "\u001b[1;31m---------------------------------------------------------------------------\u001b[0m",
      "\u001b[1;31mAttributeError\u001b[0m                            Traceback (most recent call last)",
      "\u001b[1;32m<ipython-input-23-281935098deb>\u001b[0m in \u001b[0;36m<module>\u001b[1;34m()\u001b[0m\n\u001b[1;32m----> 1\u001b[1;33m \u001b[0mdf\u001b[0m\u001b[1;33m.\u001b[0m\u001b[0mworkclass\u001b[0m\u001b[1;33m.\u001b[0m\u001b[0mvalue_counts\u001b[0m\u001b[1;33m(\u001b[0m\u001b[1;33m)\u001b[0m \u001b[1;31m#값이 몇번 나오는지를 셉니다\u001b[0m\u001b[1;33m\u001b[0m\u001b[0m\n\u001b[0m",
      "\u001b[1;32m~\\Anaconda3\\lib\\site-packages\\pandas\\core\\generic.py\u001b[0m in \u001b[0;36m__getattr__\u001b[1;34m(self, name)\u001b[0m\n\u001b[0;32m   5178\u001b[0m             \u001b[1;32mif\u001b[0m \u001b[0mself\u001b[0m\u001b[1;33m.\u001b[0m\u001b[0m_info_axis\u001b[0m\u001b[1;33m.\u001b[0m\u001b[0m_can_hold_identifiers_and_holds_name\u001b[0m\u001b[1;33m(\u001b[0m\u001b[0mname\u001b[0m\u001b[1;33m)\u001b[0m\u001b[1;33m:\u001b[0m\u001b[1;33m\u001b[0m\u001b[0m\n\u001b[0;32m   5179\u001b[0m                 \u001b[1;32mreturn\u001b[0m \u001b[0mself\u001b[0m\u001b[1;33m[\u001b[0m\u001b[0mname\u001b[0m\u001b[1;33m]\u001b[0m\u001b[1;33m\u001b[0m\u001b[0m\n\u001b[1;32m-> 5180\u001b[1;33m             \u001b[1;32mreturn\u001b[0m \u001b[0mobject\u001b[0m\u001b[1;33m.\u001b[0m\u001b[0m__getattribute__\u001b[0m\u001b[1;33m(\u001b[0m\u001b[0mself\u001b[0m\u001b[1;33m,\u001b[0m \u001b[0mname\u001b[0m\u001b[1;33m)\u001b[0m\u001b[1;33m\u001b[0m\u001b[0m\n\u001b[0m\u001b[0;32m   5181\u001b[0m \u001b[1;33m\u001b[0m\u001b[0m\n\u001b[0;32m   5182\u001b[0m     \u001b[1;32mdef\u001b[0m \u001b[0m__setattr__\u001b[0m\u001b[1;33m(\u001b[0m\u001b[0mself\u001b[0m\u001b[1;33m,\u001b[0m \u001b[0mname\u001b[0m\u001b[1;33m,\u001b[0m \u001b[0mvalue\u001b[0m\u001b[1;33m)\u001b[0m\u001b[1;33m:\u001b[0m\u001b[1;33m\u001b[0m\u001b[0m\n",
      "\u001b[1;31mAttributeError\u001b[0m: 'DataFrame' object has no attribute 'workclass'"
     ]
    }
   ],
   "source": [
    "df.workclass.value_counts() #값이 몇번 나오는지를 셉니다"
   ]
  },
  {
   "cell_type": "code",
   "execution_count": null,
   "metadata": {
    "collapsed": true
   },
   "outputs": [],
   "source": [
    "df.workclass.value_counts().plot.barh()"
   ]
  },
  {
   "cell_type": "code",
   "execution_count": null,
   "metadata": {
    "collapsed": true
   },
   "outputs": [],
   "source": [
    "df.education.value_counts().plot.barh()"
   ]
  },
  {
   "cell_type": "code",
   "execution_count": null,
   "metadata": {
    "collapsed": true
   },
   "outputs": [],
   "source": [
    "df['marital-status'].value_counts().plot.barh()"
   ]
  },
  {
   "cell_type": "code",
   "execution_count": null,
   "metadata": {
    "collapsed": true
   },
   "outputs": [],
   "source": [
    "df['occupation'].value_counts().plot.barh()"
   ]
  },
  {
   "cell_type": "code",
   "execution_count": null,
   "metadata": {
    "collapsed": true
   },
   "outputs": [],
   "source": [
    "df['race'].value_counts().plot.pie() #카테고리가 많지 않을때 효과적"
   ]
  },
  {
   "cell_type": "code",
   "execution_count": null,
   "metadata": {
    "collapsed": true
   },
   "outputs": [],
   "source": [
    "df['native-country'].value_counts().plot.bar()"
   ]
  },
  {
   "cell_type": "code",
   "execution_count": null,
   "metadata": {
    "collapsed": true
   },
   "outputs": [],
   "source": [
    "df['native-country'].unique()"
   ]
  },
  {
   "cell_type": "code",
   "execution_count": null,
   "metadata": {
    "collapsed": true
   },
   "outputs": [],
   "source": [
    "#미국인 빼고 조건부 검색\n",
    "cond = df['native-country'] !=' United-States' \n",
    "df[cond]['native-country'].value_counts().plot.barh(figsize=(8,10))"
   ]
  },
  {
   "cell_type": "code",
   "execution_count": null,
   "metadata": {
    "collapsed": true
   },
   "outputs": [],
   "source": [
    "df['income'].value_counts().plot.pie()"
   ]
  },
  {
   "cell_type": "code",
   "execution_count": null,
   "metadata": {
    "collapsed": true
   },
   "outputs": [],
   "source": [
    "df.columns"
   ]
  },
  {
   "cell_type": "markdown",
   "metadata": {},
   "source": [
    "그룹별 데이터 분석\n",
    "\n",
    "컬럼이 카테고리여야 합니다. 수치형 컬럼은 그룹별로 분석할 수 없어요\n",
    "\n",
    ".groupby('컬럼').mean() .groupby('컬럼').agg(['mean', 'max']) .groupby(['컬럼', '컬럼']).mean()"
   ]
  },
  {
   "cell_type": "code",
   "execution_count": null,
   "metadata": {
    "collapsed": true
   },
   "outputs": [],
   "source": [
    "# 직업별로 일주일에 일하는 시간을 그려봅시다\n",
    "# 직업별로 그룹화 한 다음 '일하는 시간' 을 그래프로 나타냅니다\n",
    "g = df.groupby('occupation').mean() \n",
    "g['hours-per-week'].plot.barh(figsize=(4,8))"
   ]
  },
  {
   "cell_type": "code",
   "execution_count": null,
   "metadata": {
    "collapsed": true
   },
   "outputs": [],
   "source": [
    "# 국가별 교육 정도\n",
    "g = df.groupby('native-country').mean()\n",
    "g['education-num'].plot.barh(figsize=(8,8)) # 컬럼 하나만 그래프로 그립니다"
   ]
  },
  {
   "cell_type": "code",
   "execution_count": null,
   "metadata": {
    "collapsed": true
   },
   "outputs": [],
   "source": [
    "df.groupby('native-country').mean().sort_values('education-num', ascending=False)"
   ]
  },
  {
   "cell_type": "code",
   "execution_count": null,
   "metadata": {
    "collapsed": true
   },
   "outputs": [],
   "source": []
  },
  {
   "cell_type": "code",
   "execution_count": null,
   "metadata": {
    "collapsed": true
   },
   "outputs": [],
   "source": []
  }
 ],
 "metadata": {
  "kernelspec": {
   "display_name": "Python 3",
   "language": "python",
   "name": "python3"
  },
  "language_info": {
   "codemirror_mode": {
    "name": "ipython",
    "version": 3
   },
   "file_extension": ".py",
   "mimetype": "text/x-python",
   "name": "python",
   "nbconvert_exporter": "python",
   "pygments_lexer": "ipython3",
   "version": "3.6.3"
  }
 },
 "nbformat": 4,
 "nbformat_minor": 2
}
